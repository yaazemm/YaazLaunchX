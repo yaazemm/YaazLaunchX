{
 "cells": [
  {
   "cell_type": "markdown",
   "metadata": {},
   "source": [
    "# Problema 1: \n",
    "\n",
    "#Añadir el código necesario para crear una variable que guarde la velocidad del asteroide\n",
    "\n",
    "#Escribe una expresión de prueba para calcular si necesita una advertencia\n",
    "\n",
    "#Agregue las instrucciones que se ejecutarán si la expresión de prueba es true or false\n"
   ]
  },
  {
   "cell_type": "markdown",
   "metadata": {},
   "source": []
  },
  {
   "cell_type": "code",
   "execution_count": 5,
   "metadata": {},
   "outputs": [
    {
     "name": "stdout",
     "output_type": "stream",
     "text": [
      "¡Asteoirde!\n"
     ]
    }
   ],
   "source": [
    "asteroide = 58\n",
    "if asteroide > 20:\n",
    "    print('¡Asterorde!')\n",
    "else:\n",
    "    print('Move on')"
   ]
  },
  {
   "cell_type": "markdown",
   "metadata": {},
   "source": [
    "# Problema 2\n",
    "\n",
    "#Agrega el código para crear una variable para un asteroide que viaja a 19 km/s\n",
    "\n",
    "#Escribe varias expresiones de prueba para determinar si puedes ver el rayo de luz desde la tierra\n",
    "\n",
    "#Agrega las instrucciones que se ejecutarán si las expresiones de prueba son True o False"
   ]
  },
  {
   "cell_type": "code",
   "execution_count": 6,
   "metadata": {},
   "outputs": [
    {
     "name": "stdout",
     "output_type": "stream",
     "text": [
      "Nothing\n"
     ]
    }
   ],
   "source": [
    "asteroide = 7\n",
    "if asteroide > 10:\n",
    "    print('¡Luz!')\n",
    "elif asteroide == 10:\n",
    "    print('¡Luz!')\n",
    "else:\n",
    "    print('Nothing')"
   ]
  },
  {
   "cell_type": "markdown",
   "metadata": {},
   "source": [
    "# Problema 3\n",
    "\n",
    "#Agrega el código para crear nuevas variables para la velocidad y el tamaño del asteroide\n",
    "\n",
    "#Para probar el código, prueba con varias velocidades y tamaños\n",
    "\n",
    "#Escribe varias expresiones de prueba o combinaciones de expresiones de prueba para determinar qué mensaje se debe enviar a Tierra.\n"
   ]
  },
  {
   "cell_type": "code",
   "execution_count": 7,
   "metadata": {},
   "outputs": [
    {
     "name": "stdout",
     "output_type": "stream",
     "text": [
      "¡Asteroide!\n"
     ]
    }
   ],
   "source": [
    "\n",
    "velocidad_asteroide = 30\n",
    "tamano_asteroide = 55\n",
    "if velocidad_asteroide > 20 and tamano_asteroide > 20:\n",
    "    print('¡Asteroide!')\n",
    "elif velocidad_asteroide >= 18:\n",
    "    print('¡Luz!')\n",
    "elif tamano_asteroide < 20:\n",
    "    print('Nothing:)')\n",
    "else:\n",
    "    print('Nothing :)')"
   ]
  }
 ],
 "metadata": {
  "interpreter": {
   "hash": "66507120814b7dfa136ad3b0ef407e1f3edd45e0751d32c8034d7676a45ddde4"
  },
  "kernelspec": {
   "display_name": "Python 3.10.2 64-bit (windows store)",
   "language": "python",
   "name": "python3"
  },
  "language_info": {
   "codemirror_mode": {
    "name": "ipython",
    "version": 3
   },
   "file_extension": ".py",
   "mimetype": "text/x-python",
   "name": "python",
   "nbconvert_exporter": "python",
   "pygments_lexer": "ipython3",
   "version": "3.10.2"
  },
  "orig_nbformat": 4
 },
 "nbformat": 4,
 "nbformat_minor": 2
}
